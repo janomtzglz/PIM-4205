{
 "cells": [
  {
   "cell_type": "markdown",
   "metadata": {},
   "source": [
    "# Independent t-test"
   ]
  },
  {
   "cell_type": "markdown",
   "metadata": {},
   "source": [
    "Dataset on the environmental impact (measured in kilograms of carbon dioxide)"
   ]
  },
  {
   "cell_type": "code",
   "execution_count": 40,
   "metadata": {},
   "outputs": [],
   "source": [
    "import numpy as np\n",
    "import pandas as pd\n",
    "from scipy import stats\n",
    "import matplotlib.pyplot as plt\n",
    "\n",
    "from math import sqrt"
   ]
  },
  {
   "cell_type": "code",
   "execution_count": 24,
   "metadata": {},
   "outputs": [],
   "source": [
    "data = pd.read_csv('data3.csv')"
   ]
  },
  {
   "cell_type": "markdown",
   "metadata": {},
   "source": [
    "*  perform an independent t-test in Python."
   ]
  },
  {
   "cell_type": "code",
   "execution_count": 35,
   "metadata": {},
   "outputs": [
    {
     "data": {
      "text/plain": [
       "Ttest_indResult(statistic=2.377436425293168, pvalue=0.02075151260957248)"
      ]
     },
     "execution_count": 35,
     "metadata": {},
     "output_type": "execute_result"
    }
   ],
   "source": [
    "stats.ttest_ind(data.value[data.names == 'beef'],data.value[data.names == 'pork'])"
   ]
  },
  {
   "cell_type": "markdown",
   "metadata": {},
   "source": [
    "The t-value is 2.37 and the p-value is 0.02"
   ]
  },
  {
   "cell_type": "markdown",
   "metadata": {},
   "source": [
    "<b>Confidence Intervals</b>:<br>\n",
    "If we have one sample group of data, we can check if the sample is representative of the standard population. To do so, we have to know the proportion $p$ of the characteristic in the standard population."
   ]
  },
  {
   "cell_type": "markdown",
   "metadata": {},
   "source": [
    "* Calculating the mean [95% confidence interval] difference between two independent groups. <br>\n",
    "The first thing to do is calculate the mean difference between the two groups"
   ]
  },
  {
   "cell_type": "code",
   "execution_count": 11,
   "metadata": {},
   "outputs": [
    {
     "data": {
      "text/plain": [
       "91.56666666666666"
      ]
     },
     "execution_count": 11,
     "metadata": {},
     "output_type": "execute_result"
    }
   ],
   "source": [
    "mean_beef = data.value[data.names == 'beef'].mean()\n",
    "mean_pork = data.value[data.names == 'pork'].mean()\n",
    "diff_mean = mean_beef - mean_pork\n",
    "diff_mean"
   ]
  },
  {
   "cell_type": "markdown",
   "metadata": {},
   "source": [
    "* The next thing we need to do is calculate the 95% confidence interval of this difference.  To do that, we will calculate what is known as the margin of error or MoE.\n",
    "* consider the t component, which is based on the degrees of freedom associated with our data \n",
    "* Because our data comes from 30 beef and 30 pork, our df = 58 (i.e., 30 + 30 -2)"
   ]
  },
  {
   "cell_type": "code",
   "execution_count": 39,
   "metadata": {},
   "outputs": [
    {
     "name": "stdout",
     "output_type": "stream",
     "text": [
      "The difference between groups is 91.6 [14.5 to 168.7] (mean [95% CI])\n"
     ]
    }
   ],
   "source": [
    "N1 = 30\n",
    "N2 = 30\n",
    "df = (N1 + N2 - 2)\n",
    "\n",
    "td=stats.t(df) # frozen pdf\n",
    "\n",
    "std1 = data.value[data.names == 'beef'].std()\n",
    "std2 = data.value[data.names == 'pork'].std()\n",
    "std_N1N2 = sqrt( ((N1 - 1)*(std1)**2 + (N2 - 1)*(std2)**2) / df) \n",
    "\n",
    "MoE = td.ppf(0.975)*std_N1N2 * sqrt(1/N1 + 1/N2) # using t-distribution\n",
    "\n",
    "\n",
    "print('The difference between groups is {:3.1f} [{:3.1f} to {:3.1f}] (mean [95% CI])'.format(diff_mean, diff_mean - MoE, diff_mean + MoE))"
   ]
  },
  {
   "cell_type": "code",
   "execution_count": 43,
   "metadata": {},
   "outputs": [
    {
     "data": {
      "image/png": "[encoded data removed]",
      "text/plain": [
       "<Figure size 432x288 with 1 Axes>"
      ]
     },
     "metadata": {
      "needs_background": "light"
     },
     "output_type": "display_data"
    }
   ],
   "source": [
    "plt.figure()\n",
    "\n",
    "# display the probability density function (``pdf``):\n",
    "x = np.linspace(td.ppf(0.01), td.ppf(0.99), 100) # Percent point function\n",
    "plt.plot(x, td.pdf(x), 'r')\n",
    "plt.title('t-Distribution, df=58')\n",
    "plt.ylabel('Probability')\n",
    "plt.show()"
   ]
  }
 ],
 "metadata": {
  "kernelspec": {
   "display_name": "Python 3",
   "language": "python",
   "name": "python3"
  },
  "language_info": {
   "codemirror_mode": {
    "name": "ipython",
    "version": 3
   },
   "file_extension": ".py",
   "mimetype": "text/x-python",
   "name": "python",
   "nbconvert_exporter": "python",
   "pygments_lexer": "ipython3",
   "version": "3.7.3"
  }
 },
 "nbformat": 4,
 "nbformat_minor": 2
}
