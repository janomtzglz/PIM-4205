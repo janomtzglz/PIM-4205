{
 "cells": [
  {
   "cell_type": "markdown",
   "metadata": {},
   "source": [
    "# Hypothesis Tests"
   ]
  },
  {
   "cell_type": "markdown",
   "metadata": {},
   "source": [
    "## Typical Analysis Procedure"
   ]
  },
  {
   "cell_type": "markdown",
   "metadata": {},
   "source": [
    "* Visually inspect the data\n",
    "* Find extreme samples, and check them carefully\n",
    "* Determine the data-type of the values\n",
    "* If the data are continuous, check whether or not they are normally distributed\n",
    "* Select and apply the appropriate test, or start with the model-based analysis of the data"
   ]
  },
  {
   "cell_type": "markdown",
   "metadata": {},
   "source": [
    "### example"
   ]
  },
  {
   "cell_type": "markdown",
   "metadata": {},
   "source": [
    "Assume that you are running a private educational institution. If your students score $110$ in the final exam, where the national average is 100, you get a bonus. When the results are significantly lower, you loose your bonus, and you have to hire more teachers; and when the results are significantly higher, you also loose your bonus (because you have spent too much money on teachers), and you have to cut back on the number of teachers.\n",
    "* The final exam of your ten students produce the following scores "
   ]
  },
  {
   "cell_type": "code",
   "execution_count": 3,
   "metadata": {
    "collapsed": true
   },
   "outputs": [
    {
     "data": {
      "text/plain": [
       "97.11999999999999"
      ]
     },
     "execution_count": 3,
     "metadata": {},
     "output_type": "execute_result"
    }
   ],
   "source": [
    "import numpy as np\n",
    "\n",
    "scores = np.array([109.4, 76.2, 128.7, 93.7, 85.6, 117.7, 117.2, 87.3, 100.3, 55.1]) # 10 scores\n",
    "np.mean(scores)"
   ]
  },
  {
   "cell_type": "markdown",
   "metadata": {},
   "source": [
    "* Plot the students scores"
   ]
  },
  {
   "cell_type": "code",
   "execution_count": 23,
   "metadata": {
    "collapsed": true
   },
   "outputs": [
    {
     "data": {
      "image/png": "[encoded data removed]",
      "text/plain": [
       "<Figure size 432x288 with 1 Axes>"
      ]
     },
     "metadata": {
      "needs_background": "light"
     },
     "output_type": "display_data"
    }
   ],
   "source": [
    "import matplotlib.pyplot as plt\n",
    "\n",
    "plt.scatter(np.arange(len(scores)),scores)\n",
    "x=np.arange(len(scores))\n",
    "\n",
    "begin=x[0]\n",
    "end=x[-1]\n",
    "\n",
    "plt.hlines(110, begin, end, linestyles='dashed')\n",
    "plt.hlines(np.mean(scores), begin, end, linestyles='dashdot')\n",
    "plt.xlim(begin-0.1, end+0.1)\n",
    "plt.xlabel( \"Student number\" )\n",
    "plt.ylabel( \"Score\" )\n",
    "plt.show( )"
   ]
  },
  {
   "cell_type": "markdown",
   "metadata": {},
   "source": [
    "* Is the mean value of the scores ($97.1$) significantly different from $110$?"
   ]
  },
  {
   "cell_type": "markdown",
   "metadata": {},
   "source": [
    "A normality test (stats.normaltest(scores)) indicates that the data are probably taken from a normal distribution.\n",
    "* We know that the normalized difference between sample and the population mean, the  t-statistic, follows the  t-distribution.\n",
    "$$ t=\\frac{\\bar{x}-\\mu}{s/\\sqrt(n)}$$"
   ]
  },
  {
   "cell_type": "markdown",
   "metadata": {},
   "source": [
    "The difference between our sample mean and the value we want to compare it to is"
   ]
  },
  {
   "cell_type": "code",
   "execution_count": 27,
   "metadata": {
    "collapsed": true
   },
   "outputs": [
    {
     "data": {
      "text/plain": [
       "-12.88000000000001"
      ]
     },
     "execution_count": 27,
     "metadata": {},
     "output_type": "execute_result"
    }
   ],
   "source": [
    "tn=np.mean(scores) - 110\n",
    "tn"
   ]
  },
  {
   "cell_type": "markdown",
   "metadata": {},
   "source": [
    "Normalized by the sample standard error, is given by tval"
   ]
  },
  {
   "cell_type": "markdown",
   "metadata": {},
   "source": [
    "We can calculate the likelihood that we obtain a t-statistic satisfying |t| > 1.84 → we use the survival function"
   ]
  },
  {
   "cell_type": "code",
   "execution_count": 31,
   "metadata": {
    "collapsed": true
   },
   "outputs": [
    {
     "name": "stdout",
     "output_type": "stream",
     "text": [
      "1.836024999781543 0.09953843652790623\n"
     ]
    }
   ],
   "source": [
    "from scipy import stats \n",
    "\n",
    "tval = -tn/stats.sem(scores)\n",
    "td=stats.t(len(scores)-1) # \"frozen\" t-distribution\n",
    "p=2*td.sf(tval)\n",
    "print (tval,p)"
   ]
  },
  {
   "cell_type": "markdown",
   "metadata": {},
   "source": [
    "Since the t-distribution is a known curve that depends only on the number of samples, and we can calculate the likelihood that we obtain a t-statistic of $|t|>1.84$.\n",
    "* The factor $2$ in the last line of the code is required, since we have to combine the probability of $t < -1.84$ and $t > 1.84$. "
   ]
  },
  {
   "cell_type": "markdown",
   "metadata": {},
   "source": [
    "We can state that the likelihood that the population mean is $110$ is $9.95 %$. But since a statistical difference is only given by convention if the likelihood is less than $5 %$, we conclude that the observed value of $97.1$ is not significantly different from $110$, and the bonus has to be paid out."
   ]
  },
  {
   "cell_type": "markdown",
   "metadata": {},
   "source": [
    "## Generalization. Statistical Inference"
   ]
  },
  {
   "cell_type": "markdown",
   "metadata": {},
   "source": [
    "* A random sample is drawn from a population. (In our example, the random sample is our scores)\n",
    "* A null hypothesis is formulated. (“There is null difference between the population mean and the value of $110$”)\n",
    "* A test-statistic is calculated, of which we know the probability distribution. (Here the sample mean, since we know that the mean value of samples from a normal distribution follows the t-distribution.)\n",
    "* Comparing the observed value of the statistic (here the obtained t-value) with the corresponding distribution (the t-distribution), we can find the likelihood that a value as extreme as or more extreme than the observed one is found by chance. This is the so-called <b>p-value</b>.\n",
    "* If the p-value is $p < 0.05$, we reject the null hypothesis, and speak of a statistically significant difference. If a value of $p < 0.001$ is obtained, the result is typically called highly significant."
   ]
  },
  {
   "cell_type": "markdown",
   "metadata": {},
   "source": [
    "In other words, the p-value states how likely it is to obtain a value as extreme or\n",
    "more extreme by chance alone, if the null hypothesis is true.<br>\n",
    "The value against which the p-value is compared is the significance level, and is\n",
    "often indicated with the letter  ̨$\\alpha$. The significance level is a user choice, and typically\n",
    "set to $0.05$."
   ]
  },
  {
   "cell_type": "markdown",
   "metadata": {},
   "source": [
    "## Distribution of a Sample Mean"
   ]
  },
  {
   "cell_type": "markdown",
   "metadata": {},
   "source": [
    "To check the mean value of normally distributed data against a reference value, we\n",
    "typically use the one sample t-test, which is based on the t-distribution.\n"
   ]
  },
  {
   "cell_type": "markdown",
   "metadata": {},
   "source": [
    "In practice we have to estimate the mean and standard deviation from the sample; and the t-distribution, which characterizes the distribution of sample means for normally distributed data, deviates slightly from the normal distribution."
   ]
  },
  {
   "cell_type": "markdown",
   "metadata": {},
   "source": [
    "### Example"
   ]
  },
  {
   "cell_type": "markdown",
   "metadata": {},
   "source": [
    "We take $100$ normally distributed data, with a mean of $7$ and with a standard deviation of $3$.\n",
    "* What is the chance of finding a mean value at a distance of $0.5$ or more from the mean?"
   ]
  },
  {
   "cell_type": "markdown",
   "metadata": {},
   "source": [
    "We have a population, with a mean value of 7 and a standard deviation of 3."
   ]
  },
  {
   "cell_type": "code",
   "execution_count": 39,
   "metadata": {},
   "outputs": [],
   "source": [
    "import numpy as np  \n",
    "from scipy import stats\n",
    "\n",
    "mean = 7\n",
    "std = 3\n",
    "\n",
    "nd = stats.norm(mean,std)"
   ]
  },
  {
   "cell_type": "markdown",
   "metadata": {},
   "source": [
    "From that population an observer takes 100 random samples"
   ]
  },
  {
   "cell_type": "code",
   "execution_count": 41,
   "metadata": {},
   "outputs": [],
   "source": [
    "sample=nd.rvs(100)"
   ]
  },
  {
   "cell_type": "markdown",
   "metadata": {},
   "source": [
    "The sample mean of the example is $7.06$, close to but different from the real mean"
   ]
  },
  {
   "cell_type": "code",
   "execution_count": 44,
   "metadata": {},
   "outputs": [
    {
     "name": "stdout",
     "output_type": "stream",
     "text": [
      "The sample mean is 6.83.\n"
     ]
    }
   ],
   "source": [
    "sample_mean = np.mean(sample)\n",
    "\n",
    "print(('The sample mean is {0:4.2f}.'.format( sample_mean)))"
   ]
  },
  {
   "cell_type": "markdown",
   "metadata": {},
   "source": [
    "The following gives the observer an idea about the variability of the population."
   ]
  },
  {
   "cell_type": "code",
   "execution_count": 46,
   "metadata": {},
   "outputs": [
    {
     "name": "stdout",
     "output_type": "stream",
     "text": [
      " The sample standard deviation is 2.92.\n"
     ]
    }
   ],
   "source": [
    "sample_std= np.std(sample,ddof=1) # Delta Degrees of Freedom. The divisor used in calculations is N - ddof, where N represents the number of elements. By default ddof is zero\n",
    "\n",
    "print((' The sample standard deviation is {0:4.2f}.'.format(sample_std))) "
   ]
  },
  {
   "cell_type": "code",
   "execution_count": 47,
   "metadata": {},
   "outputs": [
    {
     "name": "stdout",
     "output_type": "stream",
     "text": [
      " The sample standard error of the mean is 0.29.\n"
     ]
    }
   ],
   "source": [
    "sample_sem =stats.sem(sample) #std error of the mean\n",
    "\n",
    "print((' The sample standard error of the mean is {0:4.2f}.'.format(sample_sem)))"
   ]
  }
 ],
 "metadata": {
  "kernelspec": {
   "display_name": "Python 3",
   "language": "python",
   "name": "python3"
  },
  "language_info": {
   "codemirror_mode": {
    "name": "ipython",
    "version": 3
   },
   "file_extension": ".py",
   "mimetype": "text/x-python",
   "name": "python",
   "nbconvert_exporter": "python",
   "pygments_lexer": "ipython3",
   "version": "3.7.3"
  }
 },
 "nbformat": 4,
 "nbformat_minor": 2
}
