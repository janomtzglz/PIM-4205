{
 "cells": [
  {
   "cell_type": "markdown",
   "metadata": {},
   "source": [
    "# Hypothesis Tests, Introduction"
   ]
  },
  {
   "cell_type": "markdown",
   "metadata": {},
   "source": [
    "Consider the following problem"
   ]
  },
  {
   "cell_type": "markdown",
   "metadata": {},
   "source": [
    "The average weight of a newborn child in the USA is $3.5$ kg, with a standard deviation of 0.76 kg. If we want to check all children that are significantly different from the typical baby, what should we do with a child that is born with a weight of 2.6 kg?"
   ]
  },
  {
   "cell_type": "markdown",
   "metadata": {},
   "source": [
    "<b>hypothesis test</b>:<br>\n",
    "our hypothesis is that the baby comes from the population of healthy babies.\n",
    "\n",
    "* Can we keep the hypothesis, or does the weight of the baby suggest that we should reject that hypothesis?\n"
   ]
  },
  {
   "cell_type": "markdown",
   "metadata": {},
   "source": [
    "* Find the distribution that characterizes healthy babies $\\rightarrow$ $\\mu= 3.5$, $\\sigma=0.76$.\n",
    "* Calculate the CDF at the value of interest $\\rightarrow$ $CDF(2.6 kg)=0.118$. In other words, the probability that a healthy baby is at least $0.9$ kg lighter than the average baby is $11.8$ %.\n",
    "* Since we have a normal distribution, the probability that a healthy baby is at least $0.9$ kg heavier than the average baby is also $11.8$ %."
   ]
  },
  {
   "cell_type": "code",
   "execution_count": 4,
   "metadata": {},
   "outputs": [
    {
     "data": {
      "text/plain": [
       "0.11816486815719918"
      ]
     },
     "execution_count": 4,
     "metadata": {},
     "output_type": "execute_result"
    }
   ],
   "source": [
    "from scipy import stats\n",
    "\n",
    "nd = stats.norm(3.5, 0.76)\n",
    "nd.cdf(2.6)"
   ]
  },
  {
   "cell_type": "markdown",
   "metadata": {},
   "source": [
    "<b>Interpret the result</b>. If the baby is healthy, the chance that its weight deviates by at least $0.9$ kg from the mean is $2*11.8$ % = $23.6$ %. This is not significant, so we do not have sufficient evidence to reject our hypothesis, and our baby is regarded as healthy"
   ]
  },
  {
   "cell_type": "code",
   "execution_count": 12,
   "metadata": {
    "collapsed": true
   },
   "outputs": [
    {
     "data": {
      "image/png": "[encoded data removed]",
      "text/plain": [
       "<Figure size 432x288 with 1 Axes>"
      ]
     },
     "metadata": {
      "needs_background": "light"
     },
     "output_type": "display_data"
    }
   ],
   "source": [
    "import numpy as np\n",
    "import matplotlib.pyplot as plt\n",
    "\n",
    "x=np.arange(0,7,0.01)\n",
    "y_pdf = stats.norm.pdf(x, 3.5, 0.76)\n",
    "x1=np.arange(0,2.6,0.01)\n",
    "y1=nd.pdf(x1)\n",
    "x2=np.arange(4.4,7,0.01)\n",
    "y2=nd.pdf(x2)\n",
    "\n",
    "\n",
    "plt.plot(x, y_pdf, label='pdf')\n",
    "plt.fill_between(x1,y1, facecolor='b', alpha=0.35)\n",
    "plt.fill_between(x2,y2, facecolor='b', alpha=0.35)\n",
    "\n",
    "\n",
    "plt.xlim(0,7)\n",
    "plt.ylim (0,0.55)\n",
    "plt.show()"
   ]
  },
  {
   "cell_type": "markdown",
   "metadata": {},
   "source": [
    "<b>Remark</b>:The starting hypothesis is often referred to as null hypothesis. In our example\n",
    "it would mean that we assume that there is null difference between the distribution\n",
    "the baby comes from and the population of healthy babies.\n"
   ]
  }
 ],
 "metadata": {
  "kernelspec": {
   "display_name": "Python 3",
   "language": "python",
   "name": "python3"
  },
  "language_info": {
   "codemirror_mode": {
    "name": "ipython",
    "version": 3
   },
   "file_extension": ".py",
   "mimetype": "text/x-python",
   "name": "python",
   "nbconvert_exporter": "python",
   "pygments_lexer": "ipython3",
   "version": "3.7.3"
  }
 },
 "nbformat": 4,
 "nbformat_minor": 2
}
