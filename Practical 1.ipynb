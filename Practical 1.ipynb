{
 "cells": [
  {
   "cell_type": "markdown",
   "metadata": {},
   "source": [
    "# <center> Statistic with Python</center> \n",
    "<center> Alejandro MARTINEZ (CentraleSupelec) </center> "
   ]
  },
  {
   "cell_type": "markdown",
   "metadata": {},
   "source": [
    "* Sample Standard Deviation"
   ]
  },
  {
   "cell_type": "code",
   "execution_count": 3,
   "metadata": {},
   "outputs": [],
   "source": [
    "import numpy as np"
   ]
  },
  {
   "cell_type": "code",
   "execution_count": 4,
   "metadata": {},
   "outputs": [
    {
     "name": "stdout",
     "output_type": "stream",
     "text": [
      "The mean of the numbers from 1 to 10 is 5.50\n",
      "The standard deviation of the numbers from 1 to 10 is 3.03\n"
     ]
    }
   ],
   "source": [
    "x = np.arange(1,11)\n",
    "print('The mean of the numbers from 1 to 10 is {0:4.2f}'.format(np.mean(x)))\n",
    "print('The standard deviation of the numbers from 1 to 10 is {0:4.2f}'.format(np.std(x, ddof=1))) "
   ]
  },
  {
   "cell_type": "markdown",
   "metadata": {},
   "source": [
    "### Binomial distribution"
   ]
  },
  {
   "cell_type": "code",
   "execution_count": 5,
   "metadata": {},
   "outputs": [],
   "source": [
    "from scipy import stats"
   ]
  },
  {
   "cell_type": "markdown",
   "metadata": {},
   "source": [
    "This module contains a large number of probability distributions as well as a growing library of statistical functions."
   ]
  },
  {
   "cell_type": "markdown",
   "metadata": {},
   "source": [
    "* Generate the distribution"
   ]
  },
  {
   "cell_type": "code",
   "execution_count": 9,
   "metadata": {},
   "outputs": [],
   "source": [
    "p = 0.34\n",
    "n = 15\n",
    "bd = stats.binom(n, p)"
   ]
  },
  {
   "cell_type": "markdown",
   "metadata": {},
   "source": [
    "* Select the interesting numbers, and calculate the \"Probability Mass Function\" (PMF)"
   ]
  },
  {
   "cell_type": "code",
   "execution_count": 10,
   "metadata": {},
   "outputs": [],
   "source": [
    "x = [3,6,10]\n",
    "y = bd.pmf(x)"
   ]
  },
  {
   "cell_type": "markdown",
   "metadata": {},
   "source": [
    "* To print the result, we use the \"zip\" function to generate pairs of numbers.<br>\n",
    " Which is an iterator of tuples where the first item in each passed iterator is paired together, and then the second item in each passed iterator are paired together etc"
   ]
  },
  {
   "cell_type": "code",
   "execution_count": 11,
   "metadata": {},
   "outputs": [
    {
     "name": "stdout",
     "output_type": "stream",
     "text": [
      "The chance of finding 3 students with blue eyes is 12.2%.\n",
      "The chance of finding 6 students with blue eyes is 18.4%.\n",
      "The chance of finding 10 students with blue eyes is  0.8%.\n"
     ]
    }
   ],
   "source": [
    "for num, solution in zip(x,y):\n",
    "    print('The chance of finding {0} students with blue eyes is {1:4.1f}%.'.format(num, solution*100))"
   ]
  },
  {
   "cell_type": "markdown",
   "metadata": {},
   "source": [
    "### Poisson distribution"
   ]
  },
  {
   "cell_type": "markdown",
   "metadata": {},
   "source": [
    "* Generate the distribution"
   ]
  },
  {
   "cell_type": "code",
   "execution_count": 12,
   "metadata": {},
   "outputs": [],
   "source": [
    "prob = 62/(365/7)\n",
    "pd = stats.poisson(prob)"
   ]
  },
  {
   "cell_type": "markdown",
   "metadata": {},
   "source": [
    "* Select the interesting numbers, calculate the PMF, and print the results"
   ]
  },
  {
   "cell_type": "code",
   "execution_count": 13,
   "metadata": {},
   "outputs": [
    {
     "name": "stdout",
     "output_type": "stream",
     "text": [
      "The chance of haveing 0 fatal accidents in oneweek is 30.5%.\n",
      "The chance of haveing 2 fatal accidents in oneweek is 21.5%.\n",
      "The chance of haveing 5 fatal accidents in oneweek is  0.6%.\n"
     ]
    }
   ],
   "source": [
    "x = [0,2,5]\n",
    "y = pd.pmf(x)*100\n",
    "for num, solution in zip(x,y):\n",
    "    print('The chance of haveing {0} fatal accidents in oneweek is {1:4.1f}%.'.format(num,solution))"
   ]
  }
 ],
 "metadata": {
  "kernelspec": {
   "display_name": "Python 3",
   "language": "python",
   "name": "python3"
  },
  "language_info": {
   "codemirror_mode": {
    "name": "ipython",
    "version": 3
   },
   "file_extension": ".py",
   "mimetype": "text/x-python",
   "name": "python",
   "nbconvert_exporter": "python",
   "pygments_lexer": "ipython3",
   "version": "3.7.3"
  }
 },
 "nbformat": 4,
 "nbformat_minor": 2
}
