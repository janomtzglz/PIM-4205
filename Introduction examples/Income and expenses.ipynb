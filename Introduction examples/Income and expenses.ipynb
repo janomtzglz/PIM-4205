{
 "cells": [
  {
   "cell_type": "markdown",
   "metadata": {},
   "source": [
    "# Income and expenses"
   ]
  },
  {
   "cell_type": "markdown",
   "metadata": {},
   "source": [
    "### Import extandard packages"
   ]
  },
  {
   "cell_type": "code",
   "execution_count": 1,
   "metadata": {},
   "outputs": [],
   "source": [
    "import numpy as np"
   ]
  },
  {
   "cell_type": "markdown",
   "metadata": {},
   "source": [
    "* sum function"
   ]
  },
  {
   "cell_type": "code",
   "execution_count": 8,
   "metadata": {},
   "outputs": [
    {
     "name": "stdout",
     "output_type": "stream",
     "text": [
      "Your first transaction was a loss, and will be dropped\n",
      "You have earned 16 EUR, and spent 1 EUR\n"
     ]
    }
   ],
   "source": [
    "def incomeAndExpenses(data):\n",
    "    income=np.sum(data[data>0]) # find the sum of positive numbers\n",
    "    expenses=np.sum(data[data<0]) # find the sum of negative numbers\n",
    "    \n",
    "    return(income,expenses)\n",
    "\n",
    "testData=np.array([-5,2,3,-1,10,1])\n",
    "# nonreal bank\n",
    "if testData[0]<0:\n",
    "    print('Your first transaction was a loss, and will be dropped')\n",
    "    testData=np.delete(testData,0)\n",
    "else:\n",
    "    print('Congratulations: Your first transaction was a gain!')\n",
    "\n",
    "# call the function\n",
    "(myIncome,myExpenses)=incomeAndExpenses(testData)\n",
    "print('You have earned {} EUR, and spent {} EUR'.format(myIncome,-myExpenses))"
   ]
  },
  {
   "cell_type": "code",
   "execution_count": null,
   "metadata": {},
   "outputs": [],
   "source": []
  }
 ],
 "metadata": {
  "kernelspec": {
   "display_name": "Python 3",
   "language": "python",
   "name": "python3"
  },
  "language_info": {
   "codemirror_mode": {
    "name": "ipython",
    "version": 3
   },
   "file_extension": ".py",
   "mimetype": "text/x-python",
   "name": "python",
   "nbconvert_exporter": "python",
   "pygments_lexer": "ipython3",
   "version": "3.7.3"
  }
 },
 "nbformat": 4,
 "nbformat_minor": 2
}
